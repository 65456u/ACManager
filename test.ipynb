{
 "cells": [
  {
   "cell_type": "code",
   "id": "initial_id",
   "metadata": {
    "collapsed": true,
    "ExecuteTime": {
     "end_time": "2024-05-12T01:22:54.132832Z",
     "start_time": "2024-05-12T01:22:54.008613Z"
    }
   },
   "source": "from acm import ACMDatabase",
   "outputs": [],
   "execution_count": 1
  },
  {
   "metadata": {
    "ExecuteTime": {
     "end_time": "2024-05-12T01:23:02.041291Z",
     "start_time": "2024-05-12T01:23:02.031641Z"
    }
   },
   "cell_type": "code",
   "source": "db= ACMDatabase()",
   "id": "9d9cf1c9211e79c8",
   "outputs": [],
   "execution_count": 2
  },
  {
   "metadata": {
    "ExecuteTime": {
     "end_time": "2024-05-12T01:23:42.052869Z",
     "start_time": "2024-05-12T01:23:41.829675Z"
    }
   },
   "cell_type": "code",
   "source": "db.register_user('sb','110','letmein')",
   "id": "d8e7912412efa302",
   "outputs": [
    {
     "data": {
      "text/plain": [
       "1"
      ]
     },
     "execution_count": 3,
     "metadata": {},
     "output_type": "execute_result"
    }
   ],
   "execution_count": 3
  },
  {
   "metadata": {
    "ExecuteTime": {
     "end_time": "2024-05-12T01:24:08.741036Z",
     "start_time": "2024-05-12T01:24:08.531639Z"
    }
   },
   "cell_type": "code",
   "source": "db.login('sb','letmein')",
   "id": "6348a6080f134e2b",
   "outputs": [
    {
     "data": {
      "text/plain": [
       "True"
      ]
     },
     "execution_count": 4,
     "metadata": {},
     "output_type": "execute_result"
    }
   ],
   "execution_count": 4
  },
  {
   "metadata": {},
   "cell_type": "code",
   "outputs": [],
   "execution_count": null,
   "source": "",
   "id": "cb8856f6e2fc45c2"
  }
 ],
 "metadata": {
  "kernelspec": {
   "display_name": "Python 3",
   "language": "python",
   "name": "python3"
  },
  "language_info": {
   "codemirror_mode": {
    "name": "ipython",
    "version": 2
   },
   "file_extension": ".py",
   "mimetype": "text/x-python",
   "name": "python",
   "nbconvert_exporter": "python",
   "pygments_lexer": "ipython2",
   "version": "2.7.6"
  }
 },
 "nbformat": 4,
 "nbformat_minor": 5
}
